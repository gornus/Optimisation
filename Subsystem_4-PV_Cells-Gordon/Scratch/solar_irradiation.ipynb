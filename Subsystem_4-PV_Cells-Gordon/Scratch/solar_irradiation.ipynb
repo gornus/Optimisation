{
 "cells": [
  {
   "cell_type": "code",
   "execution_count": 48,
   "metadata": {},
   "outputs": [],
   "source": [
    "import numpy as np\n",
    "import matplotlib.pyplot as plt\n",
    "import scipy.optimize\n",
    "\n",
    "class solar_irradiation:\n",
    "    \n",
    "    def __init__(self, phi, t):\n",
    "        self.phi = phi #local latititude\n",
    "        self.t = t #time array, in days\n",
    "        \n",
    "    def delta(self, t):\n",
    "        return np.deg2rad(23.45)*np.sin(np.deg2rad((360/365)*(t/24-81)))\n",
    "\n",
    "    # hour angle at the local solar time\n",
    "    def h(self, t):\n",
    "        return -np.pi + np.deg2rad(360*t/24)\n",
    "\n",
    "    # cos of solar zenith angle\n",
    "    def costheta(self, t, phi):\n",
    "        return np.sin(phi)*np.sin(delta(t))+np.cos(phi)*np.cos(delta(t))*np.cos(h(t))\n",
    "\n",
    "    # air mass calculating solar solar irradiance accounting for the atmosphere\n",
    "    def AM(self, t,phi):\n",
    "        r = 6371*1000 # in meters\n",
    "        return np.sqrt((r*costheta(t,phi))**2+2*r+1)-r*costheta(t,phi)\n",
    "\n",
    "    # outputting the incident solar irradiance\n",
    "    def Id(self, t, phi):\n",
    "        IS = 1353 # in watts per meter^2\n",
    "        factor = 1.25 # the factor for taking account DHI as a ratio of DNI\n",
    "        return factor*1.1*IS*0.7**(AM(t,phi)**0.678)\n",
    "    \n",
    "    def local_irradiation(self):\n",
    "        ## initialisation of the data arrays\n",
    "        ti = len(t)\n",
    "        yId = np.zeros(ti)\n",
    "        yavg = np.zeros(int(np.floor(ti/(24/resolution)))+1) # the array for daily average\n",
    "        for i in range(ti):\n",
    "            # calculating the direct solar irradiance\n",
    "            data = Id(t[i],phi)\n",
    "            yId[i] = data\n",
    "            # using the local solar irradiance data to calculate the daily average\n",
    "            yavg[int(np.floor(i/(24/resolution)))-1] = yavg[int(np.floor(i/(24/resolution)))-1] + data*resolution\n",
    "        yavg = yavg / (24)\n",
    "        return yId, yavg"
   ]
  }
 ],
 "metadata": {
  "kernelspec": {
   "display_name": "Python 3",
   "language": "python",
   "name": "python3"
  },
  "language_info": {
   "codemirror_mode": {
    "name": "ipython",
    "version": 3
   },
   "file_extension": ".py",
   "mimetype": "text/x-python",
   "name": "python",
   "nbconvert_exporter": "python",
   "pygments_lexer": "ipython3",
   "version": "3.7.0"
  }
 },
 "nbformat": 4,
 "nbformat_minor": 2
}
