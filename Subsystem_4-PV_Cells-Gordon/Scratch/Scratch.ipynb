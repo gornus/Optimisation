{
 "cells": [
  {
   "cell_type": "code",
   "execution_count": 2,
   "metadata": {},
   "outputs": [],
   "source": [
    "import numpy as np\n",
    "import matplotlib.pyplot as plt"
   ]
  },
  {
   "cell_type": "code",
   "execution_count": 38,
   "metadata": {
    "scrolled": true
   },
   "outputs": [
    {
     "name": "stdout",
     "output_type": "stream",
     "text": [
      "364\n"
     ]
    },
    {
     "data": {
      "text/plain": [
       "[<matplotlib.lines.Line2D at 0x1d19f148d30>]"
      ]
     },
     "execution_count": 38,
     "metadata": {},
     "output_type": "execute_result"
    },
    {
     "data": {
      "image/png": "[encoded data removed]",
      "text/plain": [
       "<Figure size 432x288 with 1 Axes>"
      ]
     },
     "metadata": {
      "needs_background": "light"
     },
     "output_type": "display_data"
    },
    {
     "data": {
      "image/png": "[encoded data removed]",
      "text/plain": [
       "<Figure size 432x288 with 1 Axes>"
      ]
     },
     "metadata": {
      "needs_background": "light"
     },
     "output_type": "display_data"
    }
   ],
   "source": [
    "def delta(t):\n",
    "    return np.deg2rad(23.45)*np.sin(np.deg2rad((360/365)*(t/24-81)))\n",
    "\n",
    "def h(t):\n",
    "    return -np.pi + np.deg2rad(360*t/24)\n",
    "\n",
    "def costheta(t, phi):\n",
    "    return np.sin(phi)*np.sin(delta(t))+np.cos(phi)*np.cos(delta(t))*np.cos(h(t))\n",
    "\n",
    "def AM(t,phi):\n",
    "    r = 6371*1000 # in meters\n",
    "    return np.sqrt((r*costheta(t,phi))**2+2*r+1)-r*costheta(t,phi)\n",
    "\n",
    "def Id(t, phi):\n",
    "    IS = 1353 # in watts per meter^2\n",
    "    factor = 1.25 # the factor for taking account DHI\n",
    "    return factor*1.1*IS*0.7**(AM(t,phi)**0.678)\n",
    "\n",
    "def Im(t,phi,beta):\n",
    "    return Id(t,phi)*np.sin(np.pi/2-phi+delta(t)+beta)\n",
    "\n",
    "start = 24*180\n",
    "\n",
    "phi = np.deg2rad(50.41)\n",
    "beta = np.deg2rad\n",
    "resolution = 0.01\n",
    "\n",
    "t = np.arange(1,365*24, resolution)\n",
    "ti = len(t)\n",
    "ytheta = np.zeros(ti)\n",
    "yh = np.zeros(ti)\n",
    "ydelta = np.zeros(ti)\n",
    "yAM = np.zeros(ti)\n",
    "yId = np.zeros(ti)\n",
    "yapprox = np.zeros(ti)\n",
    "print(int(np.floor(ti/(24/resolution))))\n",
    "yavg = np.zeros(int(np.floor(ti/(24/resolution))))\n",
    "\n",
    "for i in range(ti):\n",
    "    ytheta[i] =costheta(t[i], phi)\n",
    "    yAM[i] = AM(t[i],phi)\n",
    "    data = Id(t[i],phi)\n",
    "    yId[i] = data\n",
    "    yavg[int(np.floor(i/(24/resolution)))-1] = yavg[int(np.floor(i/(24/resolution)))-1] + data*resolution\n",
    "\n",
    "yavg = yavg / (24/resolution)    \n",
    "\n",
    "# plt.plot(t,ytheta)\n",
    "plt.figure()\n",
    "plt.plot(t/365,yId)\n",
    "plt.figure()\n",
    "plt.plot(yavg)"
   ]
  },
  {
   "cell_type": "code",
   "execution_count": 23,
   "metadata": {},
   "outputs": [
    {
     "ename": "ValueError",
     "evalue": "x and y must have same first dimension, but have shapes (364,) and (1,)",
     "output_type": "error",
     "traceback": [
      "\u001b[1;31m---------------------------------------------------------------------------\u001b[0m",
      "\u001b[1;31mValueError\u001b[0m                                Traceback (most recent call last)",
      "\u001b[1;32m<ipython-input-23-c4b5e5c00a1f>\u001b[0m in \u001b[0;36m<module>\u001b[1;34m()\u001b[0m\n\u001b[0;32m     39\u001b[0m \u001b[1;31m# plt.plot(t,ytheta)\u001b[0m\u001b[1;33m\u001b[0m\u001b[1;33m\u001b[0m\u001b[0m\n\u001b[0;32m     40\u001b[0m \u001b[0mplt\u001b[0m\u001b[1;33m.\u001b[0m\u001b[0mfigure\u001b[0m\u001b[1;33m(\u001b[0m\u001b[1;33m)\u001b[0m\u001b[1;33m\u001b[0m\u001b[0m\n\u001b[1;32m---> 41\u001b[1;33m \u001b[0mplt\u001b[0m\u001b[1;33m.\u001b[0m\u001b[0mplot\u001b[0m\u001b[1;33m(\u001b[0m\u001b[0mt\u001b[0m\u001b[1;33m,\u001b[0m\u001b[0mId\u001b[0m\u001b[1;33m(\u001b[0m\u001b[0mt\u001b[0m\u001b[1;33m[\u001b[0m\u001b[0mi\u001b[0m\u001b[1;33m]\u001b[0m\u001b[1;33m,\u001b[0m\u001b[0mphi\u001b[0m\u001b[1;33m)\u001b[0m\u001b[1;33m)\u001b[0m\u001b[1;33m\u001b[0m\u001b[0m\n\u001b[0m",
      "\u001b[1;32mC:\\ProgramData\\Anaconda3\\lib\\site-packages\\matplotlib\\pyplot.py\u001b[0m in \u001b[0;36mplot\u001b[1;34m(*args, **kwargs)\u001b[0m\n\u001b[0;32m   3361\u001b[0m                       mplDeprecation)\n\u001b[0;32m   3362\u001b[0m     \u001b[1;32mtry\u001b[0m\u001b[1;33m:\u001b[0m\u001b[1;33m\u001b[0m\u001b[0m\n\u001b[1;32m-> 3363\u001b[1;33m         \u001b[0mret\u001b[0m \u001b[1;33m=\u001b[0m \u001b[0max\u001b[0m\u001b[1;33m.\u001b[0m\u001b[0mplot\u001b[0m\u001b[1;33m(\u001b[0m\u001b[1;33m*\u001b[0m\u001b[0margs\u001b[0m\u001b[1;33m,\u001b[0m \u001b[1;33m**\u001b[0m\u001b[0mkwargs\u001b[0m\u001b[1;33m)\u001b[0m\u001b[1;33m\u001b[0m\u001b[0m\n\u001b[0m\u001b[0;32m   3364\u001b[0m     \u001b[1;32mfinally\u001b[0m\u001b[1;33m:\u001b[0m\u001b[1;33m\u001b[0m\u001b[0m\n\u001b[0;32m   3365\u001b[0m         \u001b[0max\u001b[0m\u001b[1;33m.\u001b[0m\u001b[0m_hold\u001b[0m \u001b[1;33m=\u001b[0m \u001b[0mwashold\u001b[0m\u001b[1;33m\u001b[0m\u001b[0m\n",
      "\u001b[1;32mC:\\ProgramData\\Anaconda3\\lib\\site-packages\\matplotlib\\__init__.py\u001b[0m in \u001b[0;36minner\u001b[1;34m(ax, *args, **kwargs)\u001b[0m\n\u001b[0;32m   1865\u001b[0m                         \u001b[1;34m\"the Matplotlib list!)\"\u001b[0m \u001b[1;33m%\u001b[0m \u001b[1;33m(\u001b[0m\u001b[0mlabel_namer\u001b[0m\u001b[1;33m,\u001b[0m \u001b[0mfunc\u001b[0m\u001b[1;33m.\u001b[0m\u001b[0m__name__\u001b[0m\u001b[1;33m)\u001b[0m\u001b[1;33m,\u001b[0m\u001b[1;33m\u001b[0m\u001b[0m\n\u001b[0;32m   1866\u001b[0m                         RuntimeWarning, stacklevel=2)\n\u001b[1;32m-> 1867\u001b[1;33m             \u001b[1;32mreturn\u001b[0m \u001b[0mfunc\u001b[0m\u001b[1;33m(\u001b[0m\u001b[0max\u001b[0m\u001b[1;33m,\u001b[0m \u001b[1;33m*\u001b[0m\u001b[0margs\u001b[0m\u001b[1;33m,\u001b[0m \u001b[1;33m**\u001b[0m\u001b[0mkwargs\u001b[0m\u001b[1;33m)\u001b[0m\u001b[1;33m\u001b[0m\u001b[0m\n\u001b[0m\u001b[0;32m   1868\u001b[0m \u001b[1;33m\u001b[0m\u001b[0m\n\u001b[0;32m   1869\u001b[0m         inner.__doc__ = _add_data_doc(inner.__doc__,\n",
      "\u001b[1;32mC:\\ProgramData\\Anaconda3\\lib\\site-packages\\matplotlib\\axes\\_axes.py\u001b[0m in \u001b[0;36mplot\u001b[1;34m(self, *args, **kwargs)\u001b[0m\n\u001b[0;32m   1526\u001b[0m         \u001b[0mkwargs\u001b[0m \u001b[1;33m=\u001b[0m \u001b[0mcbook\u001b[0m\u001b[1;33m.\u001b[0m\u001b[0mnormalize_kwargs\u001b[0m\u001b[1;33m(\u001b[0m\u001b[0mkwargs\u001b[0m\u001b[1;33m,\u001b[0m \u001b[0m_alias_map\u001b[0m\u001b[1;33m)\u001b[0m\u001b[1;33m\u001b[0m\u001b[0m\n\u001b[0;32m   1527\u001b[0m \u001b[1;33m\u001b[0m\u001b[0m\n\u001b[1;32m-> 1528\u001b[1;33m         \u001b[1;32mfor\u001b[0m \u001b[0mline\u001b[0m \u001b[1;32min\u001b[0m \u001b[0mself\u001b[0m\u001b[1;33m.\u001b[0m\u001b[0m_get_lines\u001b[0m\u001b[1;33m(\u001b[0m\u001b[1;33m*\u001b[0m\u001b[0margs\u001b[0m\u001b[1;33m,\u001b[0m \u001b[1;33m**\u001b[0m\u001b[0mkwargs\u001b[0m\u001b[1;33m)\u001b[0m\u001b[1;33m:\u001b[0m\u001b[1;33m\u001b[0m\u001b[0m\n\u001b[0m\u001b[0;32m   1529\u001b[0m             \u001b[0mself\u001b[0m\u001b[1;33m.\u001b[0m\u001b[0madd_line\u001b[0m\u001b[1;33m(\u001b[0m\u001b[0mline\u001b[0m\u001b[1;33m)\u001b[0m\u001b[1;33m\u001b[0m\u001b[0m\n\u001b[0;32m   1530\u001b[0m             \u001b[0mlines\u001b[0m\u001b[1;33m.\u001b[0m\u001b[0mappend\u001b[0m\u001b[1;33m(\u001b[0m\u001b[0mline\u001b[0m\u001b[1;33m)\u001b[0m\u001b[1;33m\u001b[0m\u001b[0m\n",
      "\u001b[1;32mC:\\ProgramData\\Anaconda3\\lib\\site-packages\\matplotlib\\axes\\_base.py\u001b[0m in \u001b[0;36m_grab_next_args\u001b[1;34m(self, *args, **kwargs)\u001b[0m\n\u001b[0;32m    404\u001b[0m                 \u001b[0mthis\u001b[0m \u001b[1;33m+=\u001b[0m \u001b[0margs\u001b[0m\u001b[1;33m[\u001b[0m\u001b[1;36m0\u001b[0m\u001b[1;33m]\u001b[0m\u001b[1;33m,\u001b[0m\u001b[1;33m\u001b[0m\u001b[0m\n\u001b[0;32m    405\u001b[0m                 \u001b[0margs\u001b[0m \u001b[1;33m=\u001b[0m \u001b[0margs\u001b[0m\u001b[1;33m[\u001b[0m\u001b[1;36m1\u001b[0m\u001b[1;33m:\u001b[0m\u001b[1;33m]\u001b[0m\u001b[1;33m\u001b[0m\u001b[0m\n\u001b[1;32m--> 406\u001b[1;33m             \u001b[1;32mfor\u001b[0m \u001b[0mseg\u001b[0m \u001b[1;32min\u001b[0m \u001b[0mself\u001b[0m\u001b[1;33m.\u001b[0m\u001b[0m_plot_args\u001b[0m\u001b[1;33m(\u001b[0m\u001b[0mthis\u001b[0m\u001b[1;33m,\u001b[0m \u001b[0mkwargs\u001b[0m\u001b[1;33m)\u001b[0m\u001b[1;33m:\u001b[0m\u001b[1;33m\u001b[0m\u001b[0m\n\u001b[0m\u001b[0;32m    407\u001b[0m                 \u001b[1;32myield\u001b[0m \u001b[0mseg\u001b[0m\u001b[1;33m\u001b[0m\u001b[0m\n\u001b[0;32m    408\u001b[0m \u001b[1;33m\u001b[0m\u001b[0m\n",
      "\u001b[1;32mC:\\ProgramData\\Anaconda3\\lib\\site-packages\\matplotlib\\axes\\_base.py\u001b[0m in \u001b[0;36m_plot_args\u001b[1;34m(self, tup, kwargs)\u001b[0m\n\u001b[0;32m    381\u001b[0m             \u001b[0mx\u001b[0m\u001b[1;33m,\u001b[0m \u001b[0my\u001b[0m \u001b[1;33m=\u001b[0m \u001b[0mindex_of\u001b[0m\u001b[1;33m(\u001b[0m\u001b[0mtup\u001b[0m\u001b[1;33m[\u001b[0m\u001b[1;33m-\u001b[0m\u001b[1;36m1\u001b[0m\u001b[1;33m]\u001b[0m\u001b[1;33m)\u001b[0m\u001b[1;33m\u001b[0m\u001b[0m\n\u001b[0;32m    382\u001b[0m \u001b[1;33m\u001b[0m\u001b[0m\n\u001b[1;32m--> 383\u001b[1;33m         \u001b[0mx\u001b[0m\u001b[1;33m,\u001b[0m \u001b[0my\u001b[0m \u001b[1;33m=\u001b[0m \u001b[0mself\u001b[0m\u001b[1;33m.\u001b[0m\u001b[0m_xy_from_xy\u001b[0m\u001b[1;33m(\u001b[0m\u001b[0mx\u001b[0m\u001b[1;33m,\u001b[0m \u001b[0my\u001b[0m\u001b[1;33m)\u001b[0m\u001b[1;33m\u001b[0m\u001b[0m\n\u001b[0m\u001b[0;32m    384\u001b[0m \u001b[1;33m\u001b[0m\u001b[0m\n\u001b[0;32m    385\u001b[0m         \u001b[1;32mif\u001b[0m \u001b[0mself\u001b[0m\u001b[1;33m.\u001b[0m\u001b[0mcommand\u001b[0m \u001b[1;33m==\u001b[0m \u001b[1;34m'plot'\u001b[0m\u001b[1;33m:\u001b[0m\u001b[1;33m\u001b[0m\u001b[0m\n",
      "\u001b[1;32mC:\\ProgramData\\Anaconda3\\lib\\site-packages\\matplotlib\\axes\\_base.py\u001b[0m in \u001b[0;36m_xy_from_xy\u001b[1;34m(self, x, y)\u001b[0m\n\u001b[0;32m    240\u001b[0m         \u001b[1;32mif\u001b[0m \u001b[0mx\u001b[0m\u001b[1;33m.\u001b[0m\u001b[0mshape\u001b[0m\u001b[1;33m[\u001b[0m\u001b[1;36m0\u001b[0m\u001b[1;33m]\u001b[0m \u001b[1;33m!=\u001b[0m \u001b[0my\u001b[0m\u001b[1;33m.\u001b[0m\u001b[0mshape\u001b[0m\u001b[1;33m[\u001b[0m\u001b[1;36m0\u001b[0m\u001b[1;33m]\u001b[0m\u001b[1;33m:\u001b[0m\u001b[1;33m\u001b[0m\u001b[0m\n\u001b[0;32m    241\u001b[0m             raise ValueError(\"x and y must have same first dimension, but \"\n\u001b[1;32m--> 242\u001b[1;33m                              \"have shapes {} and {}\".format(x.shape, y.shape))\n\u001b[0m\u001b[0;32m    243\u001b[0m         \u001b[1;32mif\u001b[0m \u001b[0mx\u001b[0m\u001b[1;33m.\u001b[0m\u001b[0mndim\u001b[0m \u001b[1;33m>\u001b[0m \u001b[1;36m2\u001b[0m \u001b[1;32mor\u001b[0m \u001b[0my\u001b[0m\u001b[1;33m.\u001b[0m\u001b[0mndim\u001b[0m \u001b[1;33m>\u001b[0m \u001b[1;36m2\u001b[0m\u001b[1;33m:\u001b[0m\u001b[1;33m\u001b[0m\u001b[0m\n\u001b[0;32m    244\u001b[0m             raise ValueError(\"x and y can be no greater than 2-D, but have \"\n",
      "\u001b[1;31mValueError\u001b[0m: x and y must have same first dimension, but have shapes (364,) and (1,)"
     ]
    },
    {
     "data": {
      "image/png": "[encoded data removed]",
      "text/plain": [
       "<Figure size 432x288 with 1 Axes>"
      ]
     },
     "metadata": {
      "needs_background": "light"
     },
     "output_type": "display_data"
    }
   ],
   "source": [
    "def deltad(d):\n",
    "    return np.deg2rad(23.45)*np.sin(np.deg2rad((360/365)*(d-81)))\n",
    "\n",
    "hd = np.pi/4\n",
    "\n",
    "def costhetad(d, phi):\n",
    "    return np.sin(phi)*np.sin(deltad(d))+np.cos(phi)*np.cos(deltad(d))*np.cos(hd)\n",
    "\n",
    "def AM(d,phi):\n",
    "    r = 6371*1000 # in meters\n",
    "    return np.sqrt((r*costhetad(d,phi))**2+2*r+1)-r*costhetad(d,phi)\n",
    "\n",
    "def Id(d, phi):\n",
    "    IS = 1353 # in watts per meter^2\n",
    "    factor = 1.25 # the factor for taking account DHI\n",
    "    return factor*1.1*IS*0.7**(AM(d,phi)**0.678)\n",
    "\n",
    "def Im(d,phi,beta):\n",
    "    return Id(d,phi)*np.sin(np.pi/2-phi+delta(d)+beta)\n",
    "\n",
    "start = 24*180\n",
    "\n",
    "phi = np.deg2rad(50.41)\n",
    "beta = np.deg2rad\n",
    "\n",
    "t = np.arange(1,365)\n",
    "ti = len(t)\n",
    "ytheta = np.zeros(ti)\n",
    "yh = np.zeros(ti)\n",
    "ydelta = np.zeros(ti)\n",
    "yAM = np.zeros(ti)\n",
    "yId = np.zeros(ti)\n",
    "\n",
    "for i in range(ti):\n",
    "\n",
    "     yId[i] = Id(t[i],phi)\n",
    "\n",
    "\n",
    "# plt.plot(t,ytheta)\n",
    "plt.figure()\n",
    "plt.plot(t,Id(t[i],phi))"
   ]
  },
  {
   "cell_type": "code",
   "execution_count": null,
   "metadata": {},
   "outputs": [],
   "source": [
    "#### sine fit of the solar irradiance data to create a surrogate model for lighter computation ####\n",
    "\n",
    "# algorithm taken from:\n",
    "# https://stackoverflow.com/questions/16716302/how-do-i-fit-a-sine-curve-to-my-data-with-pylab-and-numpy#16716964\n",
    "\n",
    "from scipy import optimize\n",
    "\n",
    "def fit_sin(tt, yy):\n",
    "    '''Fit sin to the input time sequence, and return fitting parameters \"amp\", \"omega\", \"phase\", \"offset\", \"freq\", \"period\" and \"fitfunc\"'''\n",
    "    tt = np.array(tt)\n",
    "    yy = np.array(yy)\n",
    "    ff = np.fft.fftfreq(len(tt), (tt[1]-tt[0]))   # assume uniform spacing\n",
    "    Fyy = abs(np.fft.fft(yy))\n",
    "    guess_freq = abs(ff[np.argmax(Fyy[1:])+1])   # excluding the zero frequency \"peak\", which is related to offset\n",
    "    guess_amp = np.std(yy) * 2.**0.5\n",
    "    guess_offset = np.mean(yy)\n",
    "    guess = np.array([guess_amp, 2.*np.pi*guess_freq, 0., guess_offset])\n",
    "\n",
    "    def sinfunc(t, A, w, p, c):  \n",
    "        return A * np.sin(w*t + p) + c\n",
    "    \n",
    "    popt, pcov = optimize.curve_fit(sinfunc, tt, yy, p0=guess)\n",
    "    A, w, p, c = popt\n",
    "    f = w/(2.*np.pi)\n",
    "    fitfunc = lambda t: A * np.sin(w*t + p) + c\n",
    "    return {\"amp\": A, \"omega\": w, \"phase\": p, \"offset\": c, \"freq\": f, \"period\": 1./f, \"fitfunc\": fitfunc, \"maxcov\": np.max(pcov), \"rawres\": (guess,popt,pcov)}\n",
    "\n",
    "tt = np.arange(365)\n",
    "\n",
    "res = fit_sin(tt, yavg)\n",
    "print( \"Amplitude=%(amp)s, Angular freq.=%(omega)s, phase=%(phase)s, offset=%(offset)s, Max. Cov.=%(maxcov)s\" % res )\n",
    "\n",
    "plt.plot(tt, yavg, \"ob\", label=\"y\", linewidth=2)\n",
    "# plt.plot(tt, yynoise, \"ok\", label=\"y with noise\")\n",
    "plt.plot(tt2, res[\"fitfunc\"](tt2), \"k-\", label=\"y fit curve\", linewidth=2)\n",
    "plt.legend(loc=\"best\")\n",
    "plt.show()\n",
    "\n",
    "## resulting in the fit of 241.37*sin(0.01629d - 1.211) + 413.47\n",
    "# this function can then be used to calculate the module irradiance"
   ]
  },
  {
   "cell_type": "code",
   "execution_count": null,
   "metadata": {},
   "outputs": [],
   "source": [
    "print (yavg[362])"
   ]
  },
  {
   "cell_type": "code",
   "execution_count": null,
   "metadata": {},
   "outputs": [],
   "source": [
    "from scipy import optimize\n",
    "\n",
    "def test_func(x, a, b, c, d):\n",
    "    return a * np.sin(b * x + c) + d\n",
    "\n",
    "params, params_covariance = optimize.curve_fit(test_func, t, yId)\n",
    "\n",
    "print(params)\n",
    "\n",
    "yfit = np.zeros(ti)\n",
    "\n",
    "for i in range(ti):\n",
    "    yfit[i]=test_func(i, params[0], params[1], params[2], params[3])\n",
    "\n",
    "plt.figure()\n",
    "plt.plot(t, yId)\n",
    "plt.plot(t, yfit)"
   ]
  },
  {
   "cell_type": "code",
   "execution_count": 29,
   "metadata": {},
   "outputs": [
    {
     "name": "stdout",
     "output_type": "stream",
     "text": [
      "-0.14698528930819993\n",
      "-0.1295319967882566\n",
      "-0.11207870426831334\n",
      "-0.09462541174837003\n",
      "-0.0771721192284267\n",
      "-0.05971882670848344\n",
      "-0.04226553418854012\n",
      "-0.024812241668596857\n",
      "-0.0073589491486535374\n",
      "0.010094343371289782\n",
      "0.02754763589123299\n",
      "0.04500092841117631\n",
      "0.06245422093111963\n",
      "0.07990751345106295\n",
      "0.09736080597100627\n",
      "0.11481409849094948\n",
      "0.1322673910108928\n",
      "0.14972068353083612\n",
      "0.16717397605077944\n",
      "0.18462726857072265\n",
      "0.20208056109066597\n",
      "0.2195338536106093\n",
      "0.2369871461305526\n",
      "0.2544404386504959\n",
      "0.27189373117043913\n",
      "0.28934702369038245\n",
      "0.3068003162103258\n",
      "0.3242536087302691\n",
      "0.3417069012502124\n",
      "0.3591601937701556\n",
      "0.37661348629009894\n",
      "0.39406677881004226\n",
      "0.4115200713299856\n",
      "0.4289733638499288\n",
      "0.4464266563698721\n",
      "0.46387994888981543\n",
      "0.48133324140975875\n",
      "0.49878653392970207\n",
      "0.5162398264496454\n",
      "0.5336931189695887\n",
      "0.5511464114895318\n",
      "0.5685997040094751\n",
      "0.5860529965294184\n",
      "0.6035062890493618\n",
      "0.6209595815693051\n",
      "0.6384128740892484\n",
      "0.6558661666091917\n",
      "0.673319459129135\n",
      "0.6907727516490784\n",
      "0.7082260441690215\n"
     ]
    },
    {
     "data": {
      "text/plain": [
       "[<matplotlib.lines.Line2D at 0x1d19ed979b0>]"
      ]
     },
     "execution_count": 29,
     "metadata": {},
     "output_type": "execute_result"
    },
    {
     "data": {
      "image/png": "[encoded data removed]",
      "text/plain": [
       "<Figure size 432x288 with 1 Axes>"
      ]
     },
     "metadata": {
      "needs_background": "light"
     },
     "output_type": "display_data"
    }
   ],
   "source": [
    "def deltad(d):\n",
    "    return np.deg2rad(23.45)*np.sin(np.deg2rad((360/365)*(d-81)))\n",
    "\n",
    "hd = np.pi/4\n",
    "\n",
    "def costhetad(d, phi):\n",
    "    return np.sin(phi)*np.sin(deltad(d))+np.cos(phi)*np.cos(deltad(d))*np.cos(hd)\n",
    "\n",
    "def AM(d,phi):\n",
    "    r = 6371*1000 # in meters\n",
    "    return np.sqrt((r*costhetad(d,phi))**2+2*r+1)-r*costhetad(d,phi)\n",
    "\n",
    "def Id(d, phi):\n",
    "    IS = 1353 # in watts per meter^2\n",
    "    factor = 1.25 # the factor for taking account DHI\n",
    "    return factor*1.1*IS*0.7**(AM(d,phi)**0.678)\n",
    "\n",
    "def Im(d,phi,beta):\n",
    "    return Id(d,phi)*np.sin(np.pi/2-phi+delta(d)+beta)\n",
    "\n",
    "angles = range(20,70)\n",
    "ya = np.zeros(len(angles))\n",
    "\n",
    "for i in range(len(angles)):\n",
    "    print(np.pi/4 - phi + deltad(1) + np.deg2rad(angles[i]))\n",
    "    ya[i] = Id(1,phi)*np.sin(np.pi/4 - phi + deltad(1) + np.deg2rad(angles[i]))\n",
    "    \n",
    "plt.plot(angles, ya)"
   ]
  },
  {
   "cell_type": "code",
   "execution_count": 33,
   "metadata": {},
   "outputs": [
    {
     "data": {
      "text/plain": [
       "[<matplotlib.lines.Line2D at 0x1d19e7db358>]"
      ]
     },
     "execution_count": 33,
     "metadata": {},
     "output_type": "execute_result"
    },
    {
     "data": {
      "image/png": "[encoded data removed]",
      "text/plain": [
       "<Figure size 432x288 with 1 Axes>"
      ]
     },
     "metadata": {
      "needs_background": "light"
     },
     "output_type": "display_data"
    }
   ],
   "source": [
    "def g5(beta1, beta2, A1):\n",
    "    return (164.7*np.sin(beta2))/np.sin(np.pi-beta1-beta2)-A1\n",
    "\n",
    "def g6(beta1, beta2, A2):\n",
    "    return (164.7*np.sin(beta1))/np.sin(np.pi-beta1-beta2)-A2\n",
    "\n",
    "angles = np.arange(20,70,0.1)\n",
    "ya = np.zeros(len(angles))\n",
    "\n",
    "for i in range(len(angles)):\n",
    "    ya[i] = g5(np.deg2rad(30),angles[i],1)\n",
    "    \n",
    "plt.plot(angles,ya)\n"
   ]
  },
  {
   "cell_type": "code",
   "execution_count": 37,
   "metadata": {},
   "outputs": [
    {
     "name": "stdout",
     "output_type": "stream",
     "text": [
      "     fun: -29856.731781952018\n",
      "     jac: array([ 3.27201660e+03, -2.65236650e+04, -2.40820312e+00,  7.32041016e+01])\n",
      " message: 'Inequality constraints incompatible'\n",
      "    nfev: 40\n",
      "     nit: 6\n",
      "    njev: 5\n",
      "  status: 4\n",
      " success: False\n",
      "       x: array([ 5.20675581e-01,  3.49733926e-01, -3.34655274e+01, -4.08955714e+02])\n"
     ]
    }
   ],
   "source": [
    "from scipy import optimize\n",
    "# x = beta1, beta2, area1, area2\n",
    "def objective(x):\n",
    "    return -solar(x[0],x[2]) - solar(-x[1],x[3])\n",
    "\n",
    "def solar(beta, area):\n",
    "    return area*0.25*1.25*1.1*1353*0.7**(AM(1,phi)**0.678)*np.sin(np.pi/4-phi+deltad(1)+beta)\n",
    "\n",
    "def g1(x):\n",
    "    return np.deg2rad(20)-x[0]\n",
    "def g2(x):\n",
    "    return np.deg2rad(20)-x[1]\n",
    "def g3(x):\n",
    "    return x[0]-np.deg2rad(70)\n",
    "def g4(x):\n",
    "    return x[1]-np.deg2rad(70)\n",
    "def g5(x):\n",
    "    return (164.7*np.sin(x[1])/np.sin(np.pi-x[0]-x[1]))-x[2]\n",
    "def g6(x):\n",
    "    return (164.7*np.sin(x[0])/np.sin(np.pi-x[0]-x[1]))-x[3]\n",
    "\n",
    "x0=[np.deg2rad(20),np.deg2rad(20),20,20]\n",
    "\n",
    "G1 = {\n",
    "    'type': 'ineq',\n",
    "    'fun': g1\n",
    "}\n",
    "G2 = {\n",
    "    'type': 'ineq',\n",
    "    'fun': g2\n",
    "}\n",
    "G3 = {\n",
    "    'type': 'ineq',\n",
    "    'fun': g3\n",
    "}\n",
    "G4 = {\n",
    "    'type': 'ineq',\n",
    "    'fun': g4\n",
    "}\n",
    "G5 = {\n",
    "    'type': 'ineq',\n",
    "    'fun': g5\n",
    "}\n",
    "G6 = {\n",
    "    'type': 'ineq',\n",
    "    'fun': g6\n",
    "}\n",
    "\n",
    "sol = optimize.minimize(objective, x0, method='SLSQP', constraints= [G1, G2, G3, G4, G5, G6])\n",
    "print(sol)"
   ]
  }
 ],
 "metadata": {
  "kernelspec": {
   "display_name": "Python 3",
   "language": "python",
   "name": "python3"
  },
  "language_info": {
   "codemirror_mode": {
    "name": "ipython",
    "version": 3
   },
   "file_extension": ".py",
   "mimetype": "text/x-python",
   "name": "python",
   "nbconvert_exporter": "python",
   "pygments_lexer": "ipython3",
   "version": "3.7.0"
  }
 },
 "nbformat": 4,
 "nbformat_minor": 2
}
