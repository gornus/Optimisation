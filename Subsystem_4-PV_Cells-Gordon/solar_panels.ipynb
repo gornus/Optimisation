{
 "cells": [
  {
   "cell_type": "code",
   "execution_count": 26,
   "metadata": {},
   "outputs": [],
   "source": [
    "import pandas as pd\n",
    "import sympy as sym\n",
    "import numpy as np\n",
    "import math\n",
    "import matplotlib.pyplot as plt\n",
    "import time\n",
    "from mpl_toolkits.mplot3d import Axes3D\n",
    "from scipy import optimize"
   ]
  },
  {
   "cell_type": "code",
   "execution_count": 27,
   "metadata": {},
   "outputs": [
    {
     "data": {
      "text/html": [
       "<div>\n",
       "<style scoped>\n",
       "    .dataframe tbody tr th:only-of-type {\n",
       "        vertical-align: middle;\n",
       "    }\n",
       "\n",
       "    .dataframe tbody tr th {\n",
       "        vertical-align: top;\n",
       "    }\n",
       "\n",
       "    .dataframe thead th {\n",
       "        text-align: right;\n",
       "    }\n",
       "</style>\n",
       "<table border=\"1\" class=\"dataframe\">\n",
       "  <thead>\n",
       "    <tr style=\"text-align: right;\">\n",
       "      <th></th>\n",
       "      <th>Name</th>\n",
       "      <th>Length (m)</th>\n",
       "      <th>Width (m)</th>\n",
       "      <th>Module Efficiency</th>\n",
       "      <th>Weight (kg)</th>\n",
       "      <th>Power rating (kW)</th>\n",
       "      <th>Area (m^2)</th>\n",
       "      <th>Price</th>\n",
       "      <th>Eff*A</th>\n",
       "    </tr>\n",
       "  </thead>\n",
       "  <tbody>\n",
       "    <tr>\n",
       "      <th>0</th>\n",
       "      <td>LG NeON2 340</td>\n",
       "      <td>1.686</td>\n",
       "      <td>1.016</td>\n",
       "      <td>0.198</td>\n",
       "      <td>18.0</td>\n",
       "      <td>0.340</td>\n",
       "      <td>1.712976</td>\n",
       "      <td>5.824</td>\n",
       "      <td>0.339169</td>\n",
       "    </tr>\n",
       "    <tr>\n",
       "      <th>1</th>\n",
       "      <td>LG NeON2 335</td>\n",
       "      <td>1.686</td>\n",
       "      <td>1.016</td>\n",
       "      <td>0.196</td>\n",
       "      <td>18.0</td>\n",
       "      <td>0.335</td>\n",
       "      <td>1.712976</td>\n",
       "      <td>6.020</td>\n",
       "      <td>0.335743</td>\n",
       "    </tr>\n",
       "    <tr>\n",
       "      <th>2</th>\n",
       "      <td>LG Mono X Plus 330</td>\n",
       "      <td>1.686</td>\n",
       "      <td>1.016</td>\n",
       "      <td>0.175</td>\n",
       "      <td>18.0</td>\n",
       "      <td>0.300</td>\n",
       "      <td>1.712976</td>\n",
       "      <td>4.816</td>\n",
       "      <td>0.299771</td>\n",
       "    </tr>\n",
       "    <tr>\n",
       "      <th>3</th>\n",
       "      <td>LG Mono X Plus 295</td>\n",
       "      <td>1.686</td>\n",
       "      <td>1.016</td>\n",
       "      <td>0.172</td>\n",
       "      <td>18.0</td>\n",
       "      <td>0.295</td>\n",
       "      <td>1.712976</td>\n",
       "      <td>4.648</td>\n",
       "      <td>0.294632</td>\n",
       "    </tr>\n",
       "    <tr>\n",
       "      <th>4</th>\n",
       "      <td>LG Neon R 370</td>\n",
       "      <td>1.700</td>\n",
       "      <td>1.016</td>\n",
       "      <td>0.214</td>\n",
       "      <td>18.5</td>\n",
       "      <td>0.370</td>\n",
       "      <td>1.727200</td>\n",
       "      <td>9.632</td>\n",
       "      <td>0.369621</td>\n",
       "    </tr>\n",
       "  </tbody>\n",
       "</table>\n",
       "</div>"
      ],
      "text/plain": [
       "                 Name  Length (m)  Width (m)  Module Efficiency  Weight (kg)  \\\n",
       "0        LG NeON2 340       1.686      1.016              0.198         18.0   \n",
       "1        LG NeON2 335       1.686      1.016              0.196         18.0   \n",
       "2  LG Mono X Plus 330       1.686      1.016              0.175         18.0   \n",
       "3  LG Mono X Plus 295       1.686      1.016              0.172         18.0   \n",
       "4       LG Neon R 370       1.700      1.016              0.214         18.5   \n",
       "\n",
       "   Power rating (kW)  Area (m^2)  Price     Eff*A  \n",
       "0              0.340    1.712976  5.824  0.339169  \n",
       "1              0.335    1.712976  6.020  0.335743  \n",
       "2              0.300    1.712976  4.816  0.299771  \n",
       "3              0.295    1.712976  4.648  0.294632  \n",
       "4              0.370    1.727200  9.632  0.369621  "
      ]
     },
     "execution_count": 27,
     "metadata": {},
     "output_type": "execute_result"
    }
   ],
   "source": [
    "length = 6\n",
    "width = 8\n",
    "EUR = 0.84 # exchange rate\n",
    "\n",
    "## Reading of the data\n",
    "solar_panel_df = pd.read_csv(\"Optimisation\\\\Data\\\\solar_panels.csv\")\n",
    "# Unit conversion to make it consistent to the rest of the formulation\n",
    "solar_panel_df[\"Power rating (kW)\"] = solar_panel_df[\"Power rating (W)\"]/1000\n",
    "solar_panel_df[\"Area (m^2)\"] = solar_panel_df[\"Length (m)\"]*solar_panel_df[\"Width (m)\"]\n",
    "solar_panel_df[\"Price\"] = solar_panel_df[\"Price (EUR)\"]*EUR/30\n",
    "solar_panel_df[\"Eff*A\"] = solar_panel_df[\"Module Efficiency\"]*solar_panel_df[\"Area (m^2)\"]\n",
    "# Cleaning up of the dataframe\n",
    "del solar_panel_df[\"Power rating (W)\"]\n",
    "del solar_panel_df[\"OCV (V)\"]\n",
    "del solar_panel_df[\"SCC (A)\"]\n",
    "del solar_panel_df[\"Cells\"]\n",
    "del solar_panel_df[\"Thickness (m)\"]\n",
    "del solar_panel_df[\"Price (EUR)\"]\n",
    "del solar_panel_df[\"Annual Degradation (%)\"]\n",
    "del solar_panel_df[\"NOTC (C)\"]\n",
    "del solar_panel_df[\"P temp (%/C)\"]\n",
    "solar_panel_df.head()"
   ]
  },
  {
   "cell_type": "code",
   "execution_count": 28,
   "metadata": {},
   "outputs": [
    {
     "name": "stdout",
     "output_type": "stream",
     "text": [
      "maximum length of solar panel:  2.064\n",
      "minimum length of solar panel:  1.463\n",
      "maximum roof side length:  11.16171243850138\n",
      "minimum roof side length:  4.256711089903647\n",
      "(36, 9)\n",
      "1.686\n"
     ]
    },
    {
     "data": {
      "image/png": "[encoded data removed]",
      "text/plain": [
       "<Figure size 432x288 with 1 Axes>"
      ]
     },
     "metadata": {
      "needs_background": "light"
     },
     "output_type": "display_data"
    }
   ],
   "source": [
    "def roof_width(width, beta):\n",
    "    return (width*np.sin(beta))/np.sin(np.pi-2*beta)\n",
    "\n",
    "min_ang = np.deg2rad(20)\n",
    "max_ang = np.deg2rad(70)\n",
    "roof_angle = np.arange(min_ang, max_ang, np.deg2rad(1))\n",
    "\n",
    "plt.plot(roof_angle, length*roof_width(width, roof_angle), label = \"roof area\")\n",
    "plt.plot(roof_angle, roof_width(width, roof_angle), label=\"roof side\")\n",
    "plt.legend(loc=\"best\")\n",
    "\n",
    "print(\"maximum length of solar panel: \", solar_panel_df[\"Length (m)\"].max())\n",
    "print(\"minimum length of solar panel: \", solar_panel_df[\"Length (m)\"].min())\n",
    "print(\"maximum roof side length: \", max(roof_width(width, roof_angle)))\n",
    "print(\"minimum roof side length: \", min(roof_width(width, roof_angle)))\n",
    "print(solar_panel_df.shape)\n",
    "print(solar_panel_df.iloc[0][\"Length (m)\"])"
   ]
  },
  {
   "cell_type": "code",
   "execution_count": 29,
   "metadata": {},
   "outputs": [],
   "source": [
    "def max_tiling(p_length, p_width, r_length, r_width):\n",
    "    if r_width >= p_length:\n",
    "        # if the panels can be fitted perpendicularly\n",
    "        number = np.floor(r_width/p_length)*np.floor(r_length/p_width)\n",
    "        if r_width-p_length*np.floor(r_width/p_length) >= p_width:\n",
    "            # if more panels can be fitted parallely in the remaining space\n",
    "            number = number + np.floor(r_width-p_length*np.floor(r_width/p_length)/p_width)\n",
    "    elif r_width >= p_width:\n",
    "        # otherwise if we can fit the panels parallely\n",
    "        number = np.floor(r_width/p_width)*np.floor(r_length/p_length)\n",
    "    else: number = 0\n",
    "    return number\n",
    "\n",
    "\n",
    "# do not need symbolic integration as they are daily averages\n",
    "\n",
    "def bills(energy, consumption, domain):    \n",
    "    buy_price = 12.5/100 #grid power selling price/kWh\n",
    "#     sell_price = 5.5/100 #grid power buying price/kWh\n",
    "    sell_price = 12.5/100 #grid power buying price/kWh\n",
    "    cost = 0 # initialising costs\n",
    "    sell = 0\n",
    "    needed = 0\n",
    "    for i in np.arange(domain[0],domain[1]):\n",
    "        difference = consumption(i)-energy(i)\n",
    "        needed = needed+consumption(i)\n",
    "        if difference > 0:\n",
    "            # if there is more consumption than energy generated\n",
    "            cost = cost + difference*buy_price\n",
    "        else:\n",
    "            # if the excess energy can be sold back to the grid\n",
    "            sell = sell + difference*sell_price\n",
    "    return cost-sell"
   ]
  },
  {
   "cell_type": "code",
   "execution_count": 30,
   "metadata": {},
   "outputs": [
    {
     "name": "stdout",
     "output_type": "stream",
     "text": [
      "max area:  70.17130560391408\n",
      "min area:  25.540266539421886\n"
     ]
    },
    {
     "data": {
      "text/html": [
       "<div>\n",
       "<style scoped>\n",
       "    .dataframe tbody tr th:only-of-type {\n",
       "        vertical-align: middle;\n",
       "    }\n",
       "\n",
       "    .dataframe tbody tr th {\n",
       "        vertical-align: top;\n",
       "    }\n",
       "\n",
       "    .dataframe thead th {\n",
       "        text-align: right;\n",
       "    }\n",
       "</style>\n",
       "<table border=\"1\" class=\"dataframe\">\n",
       "  <thead>\n",
       "    <tr style=\"text-align: right;\">\n",
       "      <th></th>\n",
       "      <th>Name</th>\n",
       "      <th>Length (m)</th>\n",
       "      <th>Width (m)</th>\n",
       "      <th>Module Efficiency</th>\n",
       "      <th>Weight (kg)</th>\n",
       "      <th>Power rating (kW)</th>\n",
       "      <th>Area (m^2)</th>\n",
       "      <th>Price</th>\n",
       "      <th>Eff*A</th>\n",
       "      <th>max tiles</th>\n",
       "      <th>min tiles</th>\n",
       "    </tr>\n",
       "  </thead>\n",
       "  <tbody>\n",
       "    <tr>\n",
       "      <th>0</th>\n",
       "      <td>LG NeON2 340</td>\n",
       "      <td>1.686</td>\n",
       "      <td>1.016</td>\n",
       "      <td>0.198</td>\n",
       "      <td>18.0</td>\n",
       "      <td>0.340</td>\n",
       "      <td>1.712976</td>\n",
       "      <td>5.824</td>\n",
       "      <td>0.339169</td>\n",
       "      <td>31.0</td>\n",
       "      <td>10.0</td>\n",
       "    </tr>\n",
       "    <tr>\n",
       "      <th>1</th>\n",
       "      <td>LG NeON2 335</td>\n",
       "      <td>1.686</td>\n",
       "      <td>1.016</td>\n",
       "      <td>0.196</td>\n",
       "      <td>18.0</td>\n",
       "      <td>0.335</td>\n",
       "      <td>1.712976</td>\n",
       "      <td>6.020</td>\n",
       "      <td>0.335743</td>\n",
       "      <td>31.0</td>\n",
       "      <td>10.0</td>\n",
       "    </tr>\n",
       "    <tr>\n",
       "      <th>2</th>\n",
       "      <td>LG Mono X Plus 330</td>\n",
       "      <td>1.686</td>\n",
       "      <td>1.016</td>\n",
       "      <td>0.175</td>\n",
       "      <td>18.0</td>\n",
       "      <td>0.300</td>\n",
       "      <td>1.712976</td>\n",
       "      <td>4.816</td>\n",
       "      <td>0.299771</td>\n",
       "      <td>31.0</td>\n",
       "      <td>10.0</td>\n",
       "    </tr>\n",
       "    <tr>\n",
       "      <th>3</th>\n",
       "      <td>LG Mono X Plus 295</td>\n",
       "      <td>1.686</td>\n",
       "      <td>1.016</td>\n",
       "      <td>0.172</td>\n",
       "      <td>18.0</td>\n",
       "      <td>0.295</td>\n",
       "      <td>1.712976</td>\n",
       "      <td>4.648</td>\n",
       "      <td>0.294632</td>\n",
       "      <td>31.0</td>\n",
       "      <td>10.0</td>\n",
       "    </tr>\n",
       "    <tr>\n",
       "      <th>4</th>\n",
       "      <td>LG Neon R 370</td>\n",
       "      <td>1.700</td>\n",
       "      <td>1.016</td>\n",
       "      <td>0.214</td>\n",
       "      <td>18.5</td>\n",
       "      <td>0.370</td>\n",
       "      <td>1.727200</td>\n",
       "      <td>9.632</td>\n",
       "      <td>0.369621</td>\n",
       "      <td>31.0</td>\n",
       "      <td>10.0</td>\n",
       "    </tr>\n",
       "  </tbody>\n",
       "</table>\n",
       "</div>"
      ],
      "text/plain": [
       "                 Name  Length (m)  Width (m)  Module Efficiency  Weight (kg)  \\\n",
       "0        LG NeON2 340       1.686      1.016              0.198         18.0   \n",
       "1        LG NeON2 335       1.686      1.016              0.196         18.0   \n",
       "2  LG Mono X Plus 330       1.686      1.016              0.175         18.0   \n",
       "3  LG Mono X Plus 295       1.686      1.016              0.172         18.0   \n",
       "4       LG Neon R 370       1.700      1.016              0.214         18.5   \n",
       "\n",
       "   Power rating (kW)  Area (m^2)  Price     Eff*A  max tiles  min tiles  \n",
       "0              0.340    1.712976  5.824  0.339169       31.0       10.0  \n",
       "1              0.335    1.712976  6.020  0.335743       31.0       10.0  \n",
       "2              0.300    1.712976  4.816  0.299771       31.0       10.0  \n",
       "3              0.295    1.712976  4.648  0.294632       31.0       10.0  \n",
       "4              0.370    1.727200  9.632  0.369621       31.0       10.0  "
      ]
     },
     "execution_count": 30,
     "metadata": {},
     "output_type": "execute_result"
    }
   ],
   "source": [
    "# determine the maximum possible costs of purchasing solar panels\n",
    "# Max roof area happens when max roof angle\n",
    "\n",
    "max_roof_width = roof_width(width, max_ang)\n",
    "min_roof_width = roof_width(width, min_ang)\n",
    "print(\"max area: \", max_roof_width*length)\n",
    "print(\"min area: \", min_roof_width*length)\n",
    "num_models = solar_panel_df.shape[0] #number of solar panels in the data set\n",
    "max_tile = []\n",
    "min_tile = []\n",
    "for i in range(num_models):\n",
    "#     print(\"length: \", solar_panel_df.iloc[i][\"Length (m)\"])\n",
    "#     print(\"width: \", solar_panel_df.iloc[i][\"Width (m)\"])\n",
    "    max_tile.append(max_tiling(solar_panel_df.iloc[i][\"Length (m)\"], \\\n",
    "                               solar_panel_df.iloc[i][\"Width (m)\"], length, max_roof_width))\n",
    "    min_tile.append(max_tiling(solar_panel_df.iloc[i][\"Length (m)\"], \\\n",
    "                               solar_panel_df.iloc[i][\"Width (m)\"], length, min_roof_width))\n",
    "# print(max_tile)\n",
    "solar_panel_df.insert(solar_panel_df.shape[1],\"max tiles\", max_tile) # figure out the \n",
    "solar_panel_df.insert(solar_panel_df.shape[1],\"min tiles\", min_tile) # figure out the \n",
    "solar_panel_df.head()"
   ]
  },
  {
   "cell_type": "code",
   "execution_count": 31,
   "metadata": {},
   "outputs": [
    {
     "name": "stdout",
     "output_type": "stream",
     "text": [
      "max area:  70.17130560391408  width:  11.695217600652347\n",
      "min area:  25.540266539421886  width:  4.256711089903647\n"
     ]
    }
   ],
   "source": [
    "print(\"max area: \", max_roof_width*length, \" width: \", max_roof_width)\n",
    "print(\"min area: \", min_roof_width*length, \" width: \", min_roof_width)"
   ]
  },
  {
   "cell_type": "code",
   "execution_count": 32,
   "metadata": {},
   "outputs": [
    {
     "name": "stdout",
     "output_type": "stream",
     "text": [
      "334.768\n"
     ]
    }
   ],
   "source": [
    "solar_panel_df[\"max cost\"] = (solar_panel_df[\"max tiles\"]*solar_panel_df[\"Price\"])\n",
    "print(solar_panel_df[\"max cost\"].max())\n",
    "# with the maximum amount of panels purchased, the maximum yearly cost across 25 years is £138.7\n",
    "# This show that while the costs of solar panels is much smaller than the "
   ]
  },
  {
   "cell_type": "code",
   "execution_count": 33,
   "metadata": {},
   "outputs": [
    {
     "data": {
      "text/plain": [
       "[<matplotlib.lines.Line2D at 0x29c6cf20358>]"
      ]
     },
     "execution_count": 33,
     "metadata": {},
     "output_type": "execute_result"
    },
    {
     "data": {
      "image/png": "[encoded data removed]",
      "text/plain": [
       "<Figure size 432x288 with 1 Axes>"
      ]
     },
     "metadata": {
      "needs_background": "light"
     },
     "output_type": "display_data"
    }
   ],
   "source": [
    "plt.plot(solar_panel_df[\"Price\"],solar_panel_df[\"Eff*A\"],\"bo\")\n"
   ]
  },
  {
   "cell_type": "code",
   "execution_count": 34,
   "metadata": {},
   "outputs": [
    {
     "name": "stdout",
     "output_type": "stream",
     "text": [
      "23    3.276\n",
      "24    3.388\n",
      "11    3.388\n",
      "21    3.444\n",
      "12    3.472\n",
      "20    3.640\n",
      "13    3.836\n",
      "14    3.864\n",
      "18    3.892\n",
      "15    3.976\n",
      "27    4.004\n",
      "3     4.648\n",
      "19    4.676\n",
      "16    4.676\n",
      "2     4.816\n",
      "9     4.872\n",
      "22    5.012\n",
      "10    5.012\n",
      "28    5.292\n",
      "26    5.404\n",
      "25    5.404\n",
      "33    5.796\n",
      "7     5.796\n",
      "0     5.824\n",
      "31    5.852\n",
      "35    5.852\n",
      "1     6.020\n",
      "32    6.188\n",
      "30    6.216\n",
      "17    6.496\n",
      "29    6.832\n",
      "8     7.616\n",
      "34    8.064\n",
      "6     8.288\n",
      "5     8.932\n",
      "4     9.632\n",
      "Name: Price, dtype: float64\n"
     ]
    }
   ],
   "source": [
    "print(solar_panel_df[\"Price\"][solar_panel_df[\"Price\"].argsort()[::1]])"
   ]
  },
  {
   "cell_type": "code",
   "execution_count": 35,
   "metadata": {},
   "outputs": [],
   "source": [
    "def pareto_set(name, data_1, data_2, min1=True, min2=True):\n",
    "    # sort by data_1 to find the dominating points\n",
    "    if min1 == True:\n",
    "        index = data_1.argsort()[::1]\n",
    "        data_1 = data_1[index] #sort from largest to smallest\n",
    "        data_2 = data_2[index]\n",
    "        name = name[index]\n",
    "    else: \n",
    "        index = data_1.argsort()[::-1]\n",
    "        data_1 = data_1[index] #sort from smallest to largest\n",
    "        data_2 = data_2[index]\n",
    "        name = name[index[::1]]\n",
    "#     print(data_1)\n",
    "#     print(\"first data: \", data_1[index[0]], \" \", data_2[index[0]], \" \", name[index[0]])\n",
    "#     print(index)\n",
    "#     print(index[len(index)-1])\n",
    "    pareto = [index[len(index)-1]]\n",
    "    name_set = [name[index[0]]]\n",
    "    ref = data_2[index[0]]\n",
    "    for i in np.arange(1,len(data_1)):\n",
    "        if min2==True:\n",
    "            if data_2[index[i]]<ref:\n",
    "                pareto.append(index[len(index)-1-i])\n",
    "                ref = data_2[index[i]]\n",
    "                name_set.append(name[index[i]])\n",
    "        else:\n",
    "            if data_2[index[i]]>ref:\n",
    "                pareto.append(index[len(index)-1-i])\n",
    "                ref = data_2[index[i]]\n",
    "                name_set.append(name[index[i]])\n",
    "    return pareto, name_set\n"
   ]
  },
  {
   "cell_type": "code",
   "execution_count": 36,
   "metadata": {
    "scrolled": true
   },
   "outputs": [
    {
     "name": "stdout",
     "output_type": "stream",
     "text": [
      "23    3.276\n",
      "24    3.388\n",
      "11    3.388\n",
      "21    3.444\n",
      "12    3.472\n",
      "20    3.640\n",
      "13    3.836\n",
      "14    3.864\n",
      "18    3.892\n",
      "15    3.976\n",
      "27    4.004\n",
      "3     4.648\n",
      "19    4.676\n",
      "16    4.676\n",
      "2     4.816\n",
      "9     4.872\n",
      "22    5.012\n",
      "10    5.012\n",
      "28    5.292\n",
      "26    5.404\n",
      "25    5.404\n",
      "33    5.796\n",
      "7     5.796\n",
      "0     5.824\n",
      "31    5.852\n",
      "35    5.852\n",
      "1     6.020\n",
      "32    6.188\n",
      "30    6.216\n",
      "17    6.496\n",
      "29    6.832\n",
      "8     7.616\n",
      "34    8.064\n",
      "6     8.288\n",
      "5     8.932\n",
      "4     9.632\n",
      "Name: Price, dtype: float64\n",
      "first data:  3.2760000000000002   0.25782075000000004   Trina Honey TSM 270\n"
     ]
    }
   ],
   "source": [
    "# any solar panels not in this set are not as cost effective\n",
    "pareto = pareto_set(solar_panel_df[\"Name\"],solar_panel_df[\"Price\"], \\\n",
    "                    solar_panel_df[\"Eff*A\"],min1=True, min2=False)\n",
    "# print(pareto[0])\n",
    "# print(pareto[1])"
   ]
  },
  {
   "cell_type": "code",
   "execution_count": 37,
   "metadata": {},
   "outputs": [],
   "source": [
    "# As there are only three solar panels in the pareto set\n",
    "# Needed to be expanded for regression determining the relationship between price and power generation\n",
    "# for panel_model in pareto:\n",
    "#     print(solar_panel_df[solar_panel_df[\"Name\"]==panel_model])\n",
    "pareto_df = solar_panel_df.loc[solar_panel_df['Name'].isin(pareto[1])]\n",
    "pareto_df = pareto_df.sort_values(by=[\"Price\"])"
   ]
  },
  {
   "cell_type": "code",
   "execution_count": 58,
   "metadata": {},
   "outputs": [
    {
     "data": {
      "image/png": "[encoded data removed]",
      "text/plain": [
       "<Figure size 432x288 with 1 Axes>"
      ]
     },
     "metadata": {
      "needs_background": "light"
     },
     "output_type": "display_data"
    }
   ],
   "source": [
    "plt.plot(solar_panel_df[\"Price\"],solar_panel_df[\"Eff*A\"],\"bo\", label = \"solar panels\")\n",
    "plt.plot(pareto_df[\"Price\"],pareto_df[\"Eff*A\"],\"r-\", label = \"pareto front\", linewidth=1)\n",
    "plt.plot(pareto_df[\"Price\"],pareto_df[\"Eff*A\"],\"yo\", label = \"pareto set\")\n",
    "plt.legend(loc=\"best\")\n",
    "plt.title(\"Power Coefficient vs Equivalent Annual Costs of solar panels\")\n",
    "plt.xlabel(\"Equivalent Annual Costs (£)\")\n",
    "plt.ylabel(\"Power Coefficient (kW/panel unit)\")\n",
    "plt.show()"
   ]
  },
  {
   "cell_type": "code",
   "execution_count": 40,
   "metadata": {},
   "outputs": [],
   "source": [
    "def fit_log(tt, yy):\n",
    "    tt = np.array(tt)\n",
    "    yy = np.array(yy)\n",
    "    def log_func(x, a, b, c):\n",
    "        return a * np.log(b * x) + c\n",
    "\n",
    "    popt, pcov = optimize.curve_fit(log_func, tt, yy)\n",
    "    a, b, c = popt\n",
    "    fitfunc = lambda x: a * np.log(b * x) + c\n",
    "    return {\"a\": a, \"b\": b, \"c\": c,\n",
    "            \"fitfunc\": fitfunc, \"maxcov\": np.max(pcov), \"rawres\": (popt,pcov)}\n",
    "\n",
    "def fit_exp(tt, yy):\n",
    "    tt = np.array(tt)\n",
    "    yy = np.array(yy)\n",
    "    def exp_func(x, a, b, c):\n",
    "        return a * np.exp(b * x) + c\n",
    "    popt, pcov = optimize.curve_fit(exp_func, tt, yy)\n",
    "    a, b, c = popt\n",
    "    fitfunc = lambda x: a * np.exp(b * x) + c\n",
    "    return {\"a\": a, \"b\": b, \"c\": c,\n",
    "            \"fitfunc\": fitfunc, \"maxcov\": np.max(pcov), \"rawres\": (popt,pcov)}\n",
    "\n",
    "def fit_lin(tt, yy):\n",
    "    tt = np.array(tt)\n",
    "    yy = np.array(yy)\n",
    "    def exp_func(x, a, b):\n",
    "        return a * x + b\n",
    "    popt, pcov = optimize.curve_fit(exp_func, tt, yy)\n",
    "    a, b = popt\n",
    "    fitfunc = lambda x: a * x + b\n",
    "    return {\"a\": a, \"b\": b,\n",
    "            \"fitfunc\": fitfunc, \"maxcov\": np.max(pcov), \"rawres\": (popt,pcov)}"
   ]
  },
  {
   "cell_type": "code",
   "execution_count": 41,
   "metadata": {},
   "outputs": [
    {
     "name": "stdout",
     "output_type": "stream",
     "text": [
      "28.5307800452928\n",
      "-4.265292541194691\n",
      "<function <lambda> at 0x0000029C6C3DD6A8>\n"
     ]
    },
    {
     "data": {
      "text/plain": [
       "[<matplotlib.lines.Line2D at 0x29c6c1b9e10>]"
      ]
     },
     "execution_count": 41,
     "metadata": {},
     "output_type": "execute_result"
    },
    {
     "data": {
      "image/png": "[encoded data removed]",
      "text/plain": [
       "<Figure size 432x288 with 1 Axes>"
      ]
     },
     "metadata": {
      "needs_background": "light"
     },
     "output_type": "display_data"
    }
   ],
   "source": [
    "x_data = pareto_df[\"Price\"]\n",
    "y_data = pareto_df[\"Eff*A\"]\n",
    "# print(x_data)\n",
    "# print(y_data)\n",
    "pareto_front = fit_lin(pareto_df[\"Eff*A\"],pareto_df[\"Price\"])\n",
    "# pareto_fit = lambda x: pareto_front[\"a\"]*np.exp(pareto_front[\"b\"]*x)+pareto_front[\"c\"]\n",
    "pareto_fit = lambda x: pareto_front[\"a\"]*x+pareto_front[\"b\"]\n",
    "print(pareto_front[\"a\"])\n",
    "print(pareto_front[\"b\"])\n",
    "print(pareto_fit)\n",
    "plt.plot(pareto_df[\"Eff*A\"], pareto_df[\"Price\"], 'bo')\n",
    "plt.plot(pareto_df[\"Eff*A\"], pareto_front[\"fitfunc\"](pareto_df[\"Eff*A\"]), 'r-')\n",
    "# not a good fit but worth trying"
   ]
  },
  {
   "cell_type": "code",
   "execution_count": 42,
   "metadata": {},
   "outputs": [],
   "source": [
    "# consumption_fit = 1.30338864562213*sym.sin(0.0172004453662375*t + 1.62737939447036) + 11.9623058930769\n",
    "# solar_fit = 5.62575334261198*sin(0.01716050340221*t - 1.34948474433562) + 10.2277234035447\n",
    "# pareto_fit = 0.0560335267904956*exp(19.7798406889663*x) + 96.2783894507582\n",
    "# roof_factor = sin(np.pi/2-np.deg2rad(latitude)+delta(t)+beta)\n",
    "# delta = np.deg2rad(23.45)*np.sin(np.deg2rad((360/365)*(t/24-81)))\n",
    "consumption_fit = lambda t: 1.30338864562213 * np.sin(0.0172004453662375*t + 1.62737939447036) + 11.9623058930769\n",
    "solar_fit = lambda t: 0.2*(5.62575334261198 * np.sin(0.01716050340221*t - 1.34948474433562) + 10.2277234035447)\n",
    "delta = lambda t: np.deg2rad(23.45)*np.sin(np.deg2rad((360/365)*(t/24-81)))\n",
    "roof_factor = lambda beta, t: np.sin(np.pi/2-np.deg2rad(latitude)+delta(t)+beta)\n",
    "\n",
    "beta = np.deg2rad(20)\n",
    "latitude = np.deg2rad(50.41)\n",
    "gen_rate = np.arange(0.24, 1.4, 0.05)\n",
    "panel_costs = []\n",
    "energy_costs = []\n",
    "total_costs = []\n",
    "roof_life = 30\n",
    "roof_unit_costs = 90\n",
    "\n",
    "\n",
    "for i in gen_rate:\n",
    "    generation = lambda t: i*np.sin(np.pi/2-np.deg2rad(latitude)+delta(t)+beta)*solar_fit(t)\n",
    "    energy_cost = bills(generation,consumption_fit,[0, 365])\n",
    "    panel_cost = pareto_fit(i)+roof_width(width, beta)*length*roof_unit_costs/roof_life\n",
    "    energy_costs.append(energy_cost)\n",
    "    panel_costs.append(panel_cost)\n",
    "    total_costs.append(energy_cost+panel_cost)\n",
    "\n",
    "    \n"
   ]
  },
  {
   "cell_type": "code",
   "execution_count": 59,
   "metadata": {},
   "outputs": [
    {
     "data": {
      "text/plain": [
       "[<matplotlib.lines.Line2D at 0x29c6cf2e9b0>]"
      ]
     },
     "execution_count": 59,
     "metadata": {},
     "output_type": "execute_result"
    },
    {
     "data": {
      "image/png": "[encoded data removed]",
      "text/plain": [
       "<Figure size 432x288 with 1 Axes>"
      ]
     },
     "metadata": {
      "needs_background": "light"
     },
     "output_type": "display_data"
    }
   ],
   "source": [
    "beta = np.arange(min_ang, max_ang, np.deg2rad(2))\n",
    "latitude = np.deg2rad(50.41)\n",
    "gen_rate = 3\n",
    "panel_costs = []\n",
    "energy_costs = []\n",
    "total_costs = []\n",
    "for i in beta:\n",
    "    generation = lambda t: gen_rate*np.sin(np.pi/2-np.deg2rad(latitude)+delta(t)+i)*solar_fit(t)\n",
    "    energy_cost = bills(generation,consumption_fit,[0, 365])\n",
    "    panel_cost = pareto_fit(gen_rate)#+roof_width(width, i)*length*roof_unit_costs/roof_life\n",
    "    energy_costs.append(energy_cost)\n",
    "    panel_costs.append(panel_cost)\n",
    "    total_costs.append(energy_cost+panel_cost)\n",
    "    \n",
    "plt.plot(np.rad2deg(beta), energy_costs, 'r-')\n",
    "plt.plot(np.rad2deg(beta), total_costs, 'b-')\n",
    "\n",
    "## proves that it is a linear problem that is not interesting\n"
   ]
  },
  {
   "cell_type": "code",
   "execution_count": 61,
   "metadata": {
    "scrolled": true
   },
   "outputs": [
    {
     "name": "stdout",
     "output_type": "stream",
     "text": [
      "Model: Trina Honey TSM 270; minimum cost: 316.65; no. of panels: 11; roof angle: 23.20\n",
      "--- loop 0: 35.86023712158203 seconds ---\n",
      "Model: REC Peak Energy PE 270; minimum cost: 282.83; no. of panels: 12; roof angle: 23.50\n",
      "--- loop 1: 37.85350775718689 seconds ---\n",
      "Model: Trina Honey TSM 275; minimum cost: 313.06; no. of panels: 11; roof angle: 23.20\n",
      "--- loop 2: 40.73502802848816 seconds ---\n",
      "Model: REC Peak Energy PE 275; minimum cost: 278.29; no. of panels: 12; roof angle: 23.50\n",
      "--- loop 3: 38.87403678894043 seconds ---\n",
      "Model: REC TwinPeak 2 280; minimum cost: 277.05; no. of panels: 12; roof angle: 23.50\n",
      "--- loop 4: 39.64942502975464 seconds ---\n",
      "Model: REC TwinPeak 2 290; minimum cost: 269.02; no. of panels: 12; roof angle: 23.50\n",
      "--- loop 5: 35.803361892700195 seconds ---\n",
      "Model: Sharp NU-AK 300; minimum cost: 263.92; no. of panels: 12; roof angle: 23.20\n",
      "--- loop 6: 36.34279417991638 seconds ---\n",
      "Model: LG Mono X Plus 330; minimum cost: 313.71; no. of panels: 10; roof angle: 24.30\n",
      "--- loop 7: 38.096137285232544 seconds ---\n",
      "Model: Sharp NDSC 360; minimum cost: 261.04; no. of panels: 11; roof angle: 23.00\n",
      "--- loop 8: 34.93238186836243 seconds ---\n",
      "Model: LG NeON 2 BiFacial 390; minimum cost: 289.39; no. of panels: 9; roof angle: 23.20\n",
      "--- loop 9: 29.81523108482361 seconds ---\n",
      "--- total: 367.9631383419037 seconds ---\n"
     ]
    }
   ],
   "source": [
    "pareto_df.shape\n",
    "overall_start=time.time()\n",
    "beta = np.arange(np.deg2rad(20), np.deg2rad(25), np.deg2rad(0.1))\n",
    "\n",
    "for i in range(pareto_df.shape[0]):\n",
    "    no_panels = np.array([])\n",
    "    roof_angs = np.array([])\n",
    "    total_costs = np.array([])\n",
    "\n",
    "    start_time = time.time()\n",
    "    for j in beta:\n",
    "        # loop through the beta\n",
    "        max_panels = max_tiling(pareto_df.iloc[i][\"Length (m)\"],pareto_df.iloc[i][\"Width (m)\"],\\\n",
    "                               length, roof_width(width, j))\n",
    "#         print(\"Model: %s; roof angle: %.2f; max panels: %d\" %(pareto_df.iloc[i][\"Name\"],np.rad2deg(j),max_panels))\n",
    "\n",
    "        for k in range(int(max_panels)):\n",
    "            generation = lambda t: k*pareto_df.iloc[i][\"Eff*A\"]*np.sin(np.pi/2-np.deg2rad(latitude)+delta(t)+j)*solar_fit(t)\n",
    "            energy_cost = bills(generation,consumption_fit,[0, 365])\n",
    "            panel_cost = k*pareto_df.iloc[i][\"Price\"]#+roof_width(width, j)*length*roof_unit_costs/roof_life\n",
    "            no_panels = np.append(no_panels,k)\n",
    "            roof_angs = np.append(roof_angs,j)\n",
    "            total_costs = np.append(total_costs,energy_cost+panel_cost)\n",
    "#             print(\"No. Panels: %d; energy cost: %.2f; panel cost: %.2f\" %(k,energy_cost,panel_cost))\n",
    "\n",
    "\n",
    "    # fig = plt.figure()\n",
    "    # ax = fig.add_subplot(111, projection='3d')\n",
    "\n",
    "    # ax.scatter(no_panels, roof_angs, total_costs, c='r', marker='o')\n",
    "\n",
    "    # ax.set_xlabel('Number of Panels')\n",
    "    # ax.set_ylabel('Roof angle')\n",
    "    # ax.set_zlabel('total_costs')\n",
    "\n",
    "    # plt.show()\n",
    "\n",
    "    index = total_costs.argsort()[::1]\n",
    "    total_costs = total_costs[index] #sort from largest to smallest\n",
    "    no_panels = no_panels[index]\n",
    "    roof_angs = roof_angs[index]\n",
    "    print(\"Model: %s; minimum cost: %.2f; no. of panels: %d; roof angle: %.2f\" \n",
    "          %(pareto_df.iloc[i][\"Name\"],total_costs[0], no_panels[0],np.rad2deg(roof_angs[0])))\n",
    "    \n",
    "    print(\"--- loop %d: %s seconds ---\" % (i, time.time() - start_time))\n",
    "print(\"--- total: %s seconds ---\" % (time.time() - overall_start))"
   ]
  },
  {
   "cell_type": "code",
   "execution_count": 60,
   "metadata": {},
   "outputs": [
    {
     "name": "stdout",
     "output_type": "stream",
     "text": [
      "model: Trina Honey TSM 270; cost: 39.31; number: 12\n",
      "model: REC Peak Energy PE 270; cost: 40.66; number: 12\n",
      "model: Trina Honey TSM 275; cost: 37.27; number: 11\n",
      "model: REC Peak Energy PE 275; cost: 38.19; number: 11\n",
      "model: REC TwinPeak 2 280; cost: 42.20; number: 11\n",
      "model: REC TwinPeak 2 290; cost: 42.50; number: 11\n",
      "model: Sharp NU-AK 300; cost: 38.92; number: 10\n",
      "model: LG Mono X Plus 330; cost: 48.16; number: 10\n",
      "model: Sharp NDSC 360; cost: 45.11; number: 9\n",
      "model: LG NeON 2 BiFacial 390; cost: 60.93; number: 8\n"
     ]
    }
   ],
   "source": [
    "target = 3\n",
    "for i in range(pareto_df.shape[0]):\n",
    "    number = np.ceil(target/pareto_df.iloc[i][\"Eff*A\"])\n",
    "    cost = number*pareto_df.iloc[i][\"Price\"]\n",
    "    print(\"model: %s; cost: %.2f; number: %d\" %(pareto_df.iloc[i][\"Name\"],cost, number))"
   ]
  },
  {
   "cell_type": "code",
   "execution_count": null,
   "metadata": {},
   "outputs": [],
   "source": []
  }
 ],
 "metadata": {
  "kernelspec": {
   "display_name": "Python 3",
   "language": "python",
   "name": "python3"
  },
  "language_info": {
   "codemirror_mode": {
    "name": "ipython",
    "version": 3
   },
   "file_extension": ".py",
   "mimetype": "text/x-python",
   "name": "python",
   "nbconvert_exporter": "python",
   "pygments_lexer": "ipython3",
   "version": "3.7.0"
  }
 },
 "nbformat": 4,
 "nbformat_minor": 2
}
